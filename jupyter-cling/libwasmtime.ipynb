{
 "cells": [
  {
   "cell_type": "markdown",
   "metadata": {},
   "source": [
    "# WebAssembly powered by wasmtime"
   ]
  },
  {
   "cell_type": "code",
   "execution_count": 1,
   "metadata": {},
   "outputs": [],
   "source": [
    "#include <wasmtime/wasm.h>\n",
    "#define own\n",
    "#include <wasmtime/wasmtime.h>\n",
    "#pragma cling load(\"libwasmtime\")"
   ]
  },
  {
   "cell_type": "code",
   "execution_count": 2,
   "metadata": {},
   "outputs": [],
   "source": [
    "wasm_engine_t* engine = wasm_engine_new()"
   ]
  },
  {
   "cell_type": "code",
   "execution_count": 3,
   "metadata": {},
   "outputs": [
    {
     "data": {
      "text/plain": [
       "@0x7ffef27f3118"
      ]
     },
     "execution_count": 3,
     "metadata": {},
     "output_type": "execute_result"
    }
   ],
   "source": [
    "engine"
   ]
  },
  {
   "cell_type": "code",
   "execution_count": 4,
   "metadata": {},
   "outputs": [],
   "source": [
    "const char* addWAT = R\"WAT((module\n",
    "  (type (;0;) (func (param i32 i32) (result i32)))\n",
    "  (func $add (type 0) (param i32 i32) (result i32)\n",
    "    get_local 1\n",
    "    get_local 0\n",
    "    i32.add)\n",
    "  (memory 1)\n",
    "  (export \"memory\" (memory 0))\n",
    "  (export \"add\" (func $add))\n",
    "))WAT\";"
   ]
  },
  {
   "cell_type": "code",
   "execution_count": 5,
   "metadata": {},
   "outputs": [],
   "source": [
    "wasm_byte_vec_t wat;\n",
    "wat.size = strlen(addWAT);\n",
    "wat.data = (byte_t*)addWAT;"
   ]
  },
  {
   "cell_type": "code",
   "execution_count": 6,
   "metadata": {},
   "outputs": [],
   "source": [
    "#include <iostream>"
   ]
  },
  {
   "cell_type": "markdown",
   "metadata": {},
   "source": [
    "Convert WAT to WASM."
   ]
  },
  {
   "cell_type": "code",
   "execution_count": 7,
   "metadata": {},
   "outputs": [],
   "source": [
    "wasm_byte_vec_t wasm;\n",
    "wasm.size = 0;\n",
    "wasm_message_t errorMessage;\n",
    "if (!wasmtime_wat2wasm(\n",
    "     engine,\n",
    "     &wat,\n",
    "     &wasm,\n",
    "     &errorMessage)) {\n",
    "  std::cerr << \"Failed.\" << std::endl;\n",
    "}"
   ]
  },
  {
   "cell_type": "code",
   "execution_count": 8,
   "metadata": {},
   "outputs": [
    {
     "data": {
      "text/plain": [
       "70"
      ]
     },
     "execution_count": 8,
     "metadata": {},
     "output_type": "execute_result"
    }
   ],
   "source": [
    "wasm.size"
   ]
  },
  {
   "cell_type": "markdown",
   "metadata": {},
   "source": [
    "Create store."
   ]
  },
  {
   "cell_type": "code",
   "execution_count": 9,
   "metadata": {},
   "outputs": [
    {
     "data": {
      "text/plain": [
       "@0x7ffef27f3118"
      ]
     },
     "execution_count": 9,
     "metadata": {},
     "output_type": "execute_result"
    }
   ],
   "source": [
    "wasm_store_t* store = wasm_store_new(engine); store"
   ]
  },
  {
   "cell_type": "markdown",
   "metadata": {},
   "source": [
    "Check if WASM is valid."
   ]
  },
  {
   "cell_type": "code",
   "execution_count": 10,
   "metadata": {},
   "outputs": [
    {
     "data": {
      "text/plain": [
       "true"
      ]
     },
     "execution_count": 10,
     "metadata": {},
     "output_type": "execute_result"
    }
   ],
   "source": [
    "bool status = wasm_module_validate(store, &wasm); status"
   ]
  },
  {
   "cell_type": "markdown",
   "metadata": {},
   "source": [
    "Create module."
   ]
  },
  {
   "cell_type": "code",
   "execution_count": 11,
   "metadata": {},
   "outputs": [
    {
     "data": {
      "text/plain": [
       "@0x7ffef27f3118"
      ]
     },
     "execution_count": 11,
     "metadata": {},
     "output_type": "execute_result"
    }
   ],
   "source": [
    "wasm_module_t* module = wasm_module_new(store, &wasm); module"
   ]
  },
  {
   "cell_type": "markdown",
   "metadata": {},
   "source": [
    "Get imports."
   ]
  },
  {
   "cell_type": "code",
   "execution_count": 12,
   "metadata": {},
   "outputs": [
    {
     "data": {
      "text/plain": [
       "0"
      ]
     },
     "execution_count": 12,
     "metadata": {},
     "output_type": "execute_result"
    }
   ],
   "source": [
    "wasm_importtype_vec_t imports;\n",
    "wasm_module_imports(module, &imports);\n",
    "imports.size"
   ]
  },
  {
   "cell_type": "markdown",
   "metadata": {},
   "source": [
    "Create instance."
   ]
  },
  {
   "cell_type": "code",
   "execution_count": 13,
   "metadata": {},
   "outputs": [
    {
     "data": {
      "text/plain": [
       "@0x7ffef27f3118"
      ]
     },
     "execution_count": 13,
     "metadata": {},
     "output_type": "execute_result"
    }
   ],
   "source": [
    "own wasm_trap_t* trap = nullptr;\n",
    "own wasm_instance_t* instance = wasm_instance_new(store, module, nullptr, &trap);\n",
    "instance"
   ]
  },
  {
   "cell_type": "markdown",
   "metadata": {},
   "source": [
    "Get exports."
   ]
  },
  {
   "cell_type": "code",
   "execution_count": 14,
   "metadata": {},
   "outputs": [],
   "source": [
    "own wasm_exporttype_vec_t exports;\n",
    "wasm_module_exports(module, &exports);"
   ]
  },
  {
   "cell_type": "code",
   "execution_count": 15,
   "metadata": {},
   "outputs": [
    {
     "data": {
      "text/plain": [
       "2"
      ]
     },
     "execution_count": 15,
     "metadata": {},
     "output_type": "execute_result"
    }
   ],
   "source": [
    "exports.size"
   ]
  },
  {
   "cell_type": "code",
   "execution_count": 16,
   "metadata": {},
   "outputs": [
    {
     "name": "stdout",
     "output_type": "stream",
     "text": [
      "Name = memory\n",
      "Name = add\n"
     ]
    }
   ],
   "source": [
    "for (size_t i = 0; i < exports.size; ++i) {\n",
    "  const wasm_exporttype_t* e = exports.data[i];\n",
    "  const wasm_name_t* name = wasm_exporttype_name(e);\n",
    "  std::cout << \"Name = \" << std::string((const char*)(name->data), name->size) << std::endl;\n",
    "  const wasm_externtype_t* type = wasm_exporttype_type(e);\n",
    "  // wasm_externkind_t kind = wasm_externtype_kind(type);\n",
    "  // std::cout << \"Extern kind = \" << kind << std::endl;\n",
    "}"
   ]
  },
  {
   "cell_type": "code",
   "execution_count": null,
   "metadata": {},
   "outputs": [],
   "source": []
  }
 ],
 "metadata": {
  "kernelspec": {
   "display_name": "C++17",
   "language": "C++17",
   "name": "xcpp17"
  },
  "language_info": {
   "codemirror_mode": "text/x-c++src",
   "file_extension": ".cpp",
   "mimetype": "text/x-c++src",
   "name": "c++",
   "version": "17"
  }
 },
 "nbformat": 4,
 "nbformat_minor": 4
}
